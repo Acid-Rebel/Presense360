{
 "cells": [
  {
   "cell_type": "code",
   "execution_count": 1,
   "id": "51d960b0",
   "metadata": {},
   "outputs": [],
   "source": [
    "import scipy.io as sio\n",
    "import numpy as np\n",
    "import os\n",
    "import matplotlib.pyplot as plt"
   ]
  },
  {
   "cell_type": "code",
   "execution_count": 8,
   "id": "4fc1775d",
   "metadata": {},
   "outputs": [],
   "source": [
    "def hampel_filter(data, window_size=5, threshold=3):\n",
    "    filtered_data = data.copy()\n",
    "    n = len(data)\n",
    "\n",
    "    for i in range(n):\n",
    "        start = max(0, i - (window_size//2))\n",
    "        end = min(i + (window_size//2) + 1, n)\n",
    "        window = data[start:end]\n",
    "\n",
    "        median_value = np.median(window)\n",
    "        mad = np.median(np.abs(window - median_value))\n",
    "\n",
    "        if np.abs(data[i] - median_value) > threshold*mad:\n",
    "            filtered_data[i] = median_value\n",
    "\n",
    "        # outliers_removed = np.sum(data != filtered_data)\n",
    "        # outlier_percentage = outliers_removed / len(data) * 100\n",
    "    return filtered_data"
   ]
  },
  {
   "cell_type": "code",
   "execution_count": 9,
   "id": "4540fa1f",
   "metadata": {},
   "outputs": [],
   "source": [
    "def preprocess(file_path):\n",
    "    data = sio.loadmat(file_path)\n",
    "    csi_amps = data['CSIamp'] # 342 in number\n",
    "\n",
    "    for amp in csi_amps:\n",
    "        amp = hampel_filter(amp)"
   ]
  },
  {
   "cell_type": "code",
   "execution_count": null,
   "id": "f4ef795b",
   "metadata": {},
   "outputs": [],
   "source": [
    "def list_all_files(root='.'):\n",
    "    for entry in os.listdir(root):\n",
    "        full_path = os.path.join(root, entry)\n",
    "        if os.path.isdir(full_path):\n",
    "            list_all_files(full_path)\n",
    "        else:\n",
    "            preprocess(full_path)\n",
    "\n",
    "root = '..\\dataset'\n",
    "list_all_files(root)"
   ]
  }
 ],
 "metadata": {
  "kernelspec": {
   "display_name": "tf",
   "language": "python",
   "name": "python3"
  },
  "language_info": {
   "codemirror_mode": {
    "name": "ipython",
    "version": 3
   },
   "file_extension": ".py",
   "mimetype": "text/x-python",
   "name": "python",
   "nbconvert_exporter": "python",
   "pygments_lexer": "ipython3",
   "version": "3.9.23"
  }
 },
 "nbformat": 4,
 "nbformat_minor": 5
}

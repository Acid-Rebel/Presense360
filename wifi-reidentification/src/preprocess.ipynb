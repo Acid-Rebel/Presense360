{
 "cells": [
  {
   "cell_type": "code",
   "execution_count": null,
   "id": "51d960b0",
   "metadata": {},
   "outputs": [],
   "source": [
    "import scipy.io as sio\n",
    "import numpy as np\n",
    "import os"
   ]
  },
  {
   "cell_type": "code",
   "execution_count": null,
   "id": "4fc1775d",
   "metadata": {},
   "outputs": [],
   "source": [
    "def hampel_filter(data, window_size=5, threshold=3):\n",
    "    filtered_data = data.copy()\n",
    "    n = len(data)\n",
    "    outliers_found = 0\n",
    "\n",
    "    print(f\"    Data range: {np.min(data):.3f} to {np.max(data):.3f}\")\n",
    "    for i in range(n):\n",
    "        start = max(0, i - (window_size//2))\n",
    "        end = min(i + (window_size//2) + 1, n)\n",
    "        window = data[start:end]\n",
    "\n",
    "        median_value = np.median(window)\n",
    "        mad = np.median(np.abs(window - median_value))\n",
    "\n",
    "        if mad > 0 and np.abs(data[i] - median_value) > threshold * mad:\n",
    "            print(f\"    Outlier: {data[i]:.3f} -> {median_value:.3f}\")\n",
    "            filtered_data[i] = median_value\n",
    "            outliers_found += 1\n",
    "            \n",
    "    print(f\"    Outliers found: {outliers_found}\")\n",
    "        # outliers_removed = np.sum(data != filtered_data)\n",
    "        # outlier_percentage = outliers_removed / len(data) * 100\n",
    "    return (filtered_data)"
   ]
  },
  {
   "cell_type": "code",
   "execution_count": null,
   "id": "4540fa1f",
   "metadata": {},
   "outputs": [],
   "source": [
    "def preprocess(file_path):\n",
    "    try:\n",
    "        data = sio.loadmat(file_path)\n",
    "\n",
    "        if 'CSIamp' not in data:\n",
    "            print(f\"Warning: 'CSIamp' key not found in {file_path}\")\n",
    "            return\n",
    "        \n",
    "        csi_amps = data['CSIamp'] # 342 in number\n",
    "\n",
    "        if len(csi_amps.shape) != 2:\n",
    "            print(f\"Warning: Unexpected data shape {csi_amps.shape} in {file_path}\")\n",
    "            return\n",
    "\n",
    "        for i in range(len(csi_amps)):\n",
    "            csi_amps[i] = hampel_filter(csi_amps[i])\n",
    "\n",
    "        filtered_data = {'CSIamp': csi_amps}\n",
    "        sio.savemat(file_path, filtered_data)\n",
    "\n",
    "    except Exception as e:\n",
    "        print(f\"Error processing {file_path}: {str(e)}\")"
   ]
  },
  {
   "cell_type": "code",
   "execution_count": null,
   "id": "f4ef795b",
   "metadata": {},
   "outputs": [],
   "source": [
    "def list_all_files(root='.'):\n",
    "    processed_count = 0\n",
    "    for entry in os.listdir(root):\n",
    "        full_path = os.path.join(root, entry)\n",
    "        if os.path.isdir(full_path):\n",
    "            processed_count += list_all_files(full_path)\n",
    "        else:\n",
    "            if full_path.endswith('.mat'):\n",
    "                preprocess(full_path)\n",
    "                processed_count += 1\n",
    "    return processed_count\n",
    "\n",
    "root = '..\\dataset'\n",
    "processed_count = list_all_files(root)\n",
    "print(f\"\\nTotal processed: {processed_count} files\")"
   ]
  }
 ],
 "metadata": {
  "kernelspec": {
   "display_name": "tf",
   "language": "python",
   "name": "python3"
  },
  "language_info": {
   "codemirror_mode": {
    "name": "ipython",
    "version": 3
   },
   "file_extension": ".py",
   "mimetype": "text/x-python",
   "name": "python",
   "nbconvert_exporter": "python",
   "pygments_lexer": "ipython3",
   "version": "3.9.23"
  }
 },
 "nbformat": 4,
 "nbformat_minor": 5
}
